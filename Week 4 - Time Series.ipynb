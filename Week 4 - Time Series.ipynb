{
 "cells": [
  {
   "cell_type": "code",
   "execution_count": 46,
   "metadata": {},
   "outputs": [
    {
     "data": {
      "text/html": [
       "<div>\n",
       "<style scoped>\n",
       "    .dataframe tbody tr th:only-of-type {\n",
       "        vertical-align: middle;\n",
       "    }\n",
       "\n",
       "    .dataframe tbody tr th {\n",
       "        vertical-align: top;\n",
       "    }\n",
       "\n",
       "    .dataframe thead th {\n",
       "        text-align: right;\n",
       "    }\n",
       "</style>\n",
       "<table border=\"1\" class=\"dataframe\">\n",
       "  <thead>\n",
       "    <tr style=\"text-align: right;\">\n",
       "      <th></th>\n",
       "      <th>SKU</th>\n",
       "      <th>MMDDYYYY</th>\n",
       "      <th>SumOfNET_QTY</th>\n",
       "      <th>Type</th>\n",
       "      <th>Part Type</th>\n",
       "    </tr>\n",
       "  </thead>\n",
       "  <tbody>\n",
       "    <tr>\n",
       "      <th>0</th>\n",
       "      <td>38340M844A0</td>\n",
       "      <td>2006-04-01</td>\n",
       "      <td>14492</td>\n",
       "      <td>Seasonal</td>\n",
       "      <td>Wiper</td>\n",
       "    </tr>\n",
       "    <tr>\n",
       "      <th>1</th>\n",
       "      <td>38340M844A0</td>\n",
       "      <td>2006-05-01</td>\n",
       "      <td>30760</td>\n",
       "      <td>Seasonal</td>\n",
       "      <td>Wiper</td>\n",
       "    </tr>\n",
       "    <tr>\n",
       "      <th>2</th>\n",
       "      <td>38340M844A0</td>\n",
       "      <td>2006-06-01</td>\n",
       "      <td>44461</td>\n",
       "      <td>Seasonal</td>\n",
       "      <td>Wiper</td>\n",
       "    </tr>\n",
       "    <tr>\n",
       "      <th>3</th>\n",
       "      <td>38340M844A0</td>\n",
       "      <td>2006-07-01</td>\n",
       "      <td>33386</td>\n",
       "      <td>Seasonal</td>\n",
       "      <td>Wiper</td>\n",
       "    </tr>\n",
       "  </tbody>\n",
       "</table>\n",
       "</div>"
      ],
      "text/plain": [
       "           SKU    MMDDYYYY  SumOfNET_QTY      Type Part Type\n",
       "0  38340M844A0  2006-04-01         14492  Seasonal     Wiper\n",
       "1  38340M844A0  2006-05-01         30760  Seasonal     Wiper\n",
       "2  38340M844A0  2006-06-01         44461  Seasonal     Wiper\n",
       "3  38340M844A0  2006-07-01         33386  Seasonal     Wiper"
      ]
     },
     "execution_count": 46,
     "metadata": {},
     "output_type": "execute_result"
    },
    {
     "data": {
      "text/plain": [
       "<Figure size 1440x720 with 0 Axes>"
      ]
     },
     "metadata": {},
     "output_type": "display_data"
    }
   ],
   "source": [
    "import pandas\n",
    "import datetime\n",
    "from pivottablejs import pivot_ui\n",
    "import matplotlib.pyplot as plt\n",
    "\n",
    "\n",
    "filename = \"./data/forecasting_data.csv\"\n",
    "df = pandas.read_csv(filename)\n",
    "\n",
    "# Read data, Format Dates\n",
    "df[\"MMDDYYYY\"] = df.apply(lambda x: datetime.datetime.strptime(x[\"MMDDYYYY\"],\"%d-%m-%Y\").date(),axis = 1)\n",
    "\n",
    "df[:4]\n"
   ]
  },
  {
   "cell_type": "code",
   "execution_count": 29,
   "metadata": {},
   "outputs": [
    {
     "data": {
      "text/html": [
       "\n",
       "        <iframe\n",
       "            width=\"100%\"\n",
       "            height=\"500\"\n",
       "            src=\"pivottablejs.html\"\n",
       "            frameborder=\"0\"\n",
       "            allowfullscreen\n",
       "        ></iframe>\n",
       "        "
      ],
      "text/plain": [
       "<IPython.lib.display.IFrame at 0xfb5130>"
      ]
     },
     "execution_count": 29,
     "metadata": {},
     "output_type": "execute_result"
    }
   ],
   "source": [
    "pivot_ui(df)\n",
    "#Analyse pivot table"
   ]
  },
  {
   "cell_type": "code",
   "execution_count": 47,
   "metadata": {},
   "outputs": [],
   "source": [
    "# Helper Utils\n",
    "import model_evaluation_metric_utils as utils\n",
    "\n",
    "def get_sku_of_type(my_type,df):\n",
    "    \"\"\"\n",
    "    Get all SKU and their demand table separately for a given type of product\n",
    "    \"\"\"\n",
    "    df = df[df.Type == my_type]\n",
    "    distinct_sku = df[\"SKU\"].unique()\n",
    "    df_dict = {}\n",
    "    for sku in distinct_sku:\n",
    "        df_dict[sku] = df[df[\"SKU\"]==sku].reset_index(drop=True)\n",
    "    return distinct_sku, df_dict\n",
    "\n",
    "def get_test_train(sku_table):\n",
    "    \"\"\"\n",
    "    Split SKU demand data into train and test \n",
    "    \"\"\"\n",
    "    filtered_sku_table = sku_table[[\"MMDDYYYY\",\"SumOfNET_QTY\"]].set_index([\"MMDDYYYY\"],drop=True)\n",
    "    filtered_sku_table.index.freq = 'MS'\n",
    "    train = filtered_sku_table[:-6]\n",
    "    test = filtered_sku_table[-6:]\n",
    "    return train,test\n"
   ]
  },
  {
   "cell_type": "code",
   "execution_count": 65,
   "metadata": {},
   "outputs": [
    {
     "name": "stderr",
     "output_type": "stream",
     "text": [
      "c:\\users\\admin\\appdata\\local\\programs\\python\\python36-32\\lib\\site-packages\\statsmodels\\tsa\\base\\tsa_model.py:171: ValueWarning: No frequency information was provided, so inferred frequency MS will be used.\n",
      "  % freq, ValueWarning)\n"
     ]
    },
    {
     "name": "stdout",
     "output_type": "stream",
     "text": [
      " SKU :  16510-82703\n",
      "MAPE:  0.05531412197141527\n",
      "MAPE:  0.05749576932929979\n"
     ]
    },
    {
     "name": "stderr",
     "output_type": "stream",
     "text": [
      "c:\\users\\admin\\appdata\\local\\programs\\python\\python36-32\\lib\\site-packages\\statsmodels\\tsa\\base\\tsa_model.py:171: ValueWarning: No frequency information was provided, so inferred frequency MS will be used.\n",
      "  % freq, ValueWarning)\n"
     ]
    },
    {
     "name": "stdout",
     "output_type": "stream",
     "text": [
      " SKU :  57300M74F00\n",
      "MAPE:  0.1446986035585671\n",
      "MAPE:  0.1424672060350206\n"
     ]
    },
    {
     "data": {
      "image/png": "[encoded data removed]",
      "text/plain": [
       "<Figure size 432x288 with 2 Axes>"
      ]
     },
     "metadata": {
      "needs_background": "light"
     },
     "output_type": "display_data"
    }
   ],
   "source": [
    "# Exponential Smoothing for SKU types : (High Growth, Trend) \n",
    "\n",
    "# This cell would forecast for type Trend\n",
    "\n",
    "from statsmodels.tsa.holtwinters import ExponentialSmoothing\n",
    "\n",
    "trend_products, trend_tables = get_sku_of_type(\"Trend\",df)\n",
    "# print(hg_tables)\n",
    "\n",
    "\n",
    "\n",
    "\n",
    "for sku in trend_products:\n",
    "    sku_train,sku_test = get_test_train(trend_tables[sku])\n",
    "    #print(sku_train)\n",
    "    #print(sku_test)\n",
    "    \n",
    "    model = ExponentialSmoothing(sku_train[\"SumOfNET_QTY\"],seasonal='add',seasonal_periods=12).fit()\n",
    "    \n",
    "    pred = model.predict(start=sku_test.index[0], end=sku_test.index[-1])\n",
    "    \n",
    "    print(\" SKU : \",sku)\n",
    "    mape = utils.calculate_mape(sku_test[\"SumOfNET_QTY\"],pred)\n",
    "    print(\"MAPE: \",mape)\n",
    "    wmape = utils.calculate_wmape(sku_test[\"SumOfNET_QTY\"],pred)\n",
    "    print(\"MAPE: \",wmape)\n",
    "    \n",
    "    plt.subplot(len(trend_products),1,list(trend_products).index(sku)+1)\n",
    "    plt.plot(sku_train.index, sku_train[\"SumOfNET_QTY\"], label='Train')\n",
    "    plt.plot(sku_test.index, sku_test[\"SumOfNET_QTY\"], label='Test')\n",
    "    plt.plot(pred.index, pred, label='Exponential')\n",
    "    plt.legend(loc='best')\n",
    "    \n"
   ]
  },
  {
   "cell_type": "code",
   "execution_count": null,
   "metadata": {},
   "outputs": [],
   "source": []
  },
  {
   "cell_type": "code",
   "execution_count": 66,
   "metadata": {},
   "outputs": [
    {
     "name": "stderr",
     "output_type": "stream",
     "text": [
      "c:\\users\\admin\\appdata\\local\\programs\\python\\python36-32\\lib\\site-packages\\statsmodels\\tsa\\base\\tsa_model.py:171: ValueWarning: No frequency information was provided, so inferred frequency MS will be used.\n",
      "  % freq, ValueWarning)\n"
     ]
    },
    {
     "name": "stdout",
     "output_type": "stream",
     "text": [
      " SKU :  99000M99503-SIL\n",
      "MAPE:  0.37961103288761766\n",
      "MAPE:  0.3792032616080159\n"
     ]
    },
    {
     "data": {
      "image/png": "[encoded data removed]",
      "text/plain": [
       "<Figure size 432x288 with 1 Axes>"
      ]
     },
     "metadata": {
      "needs_background": "light"
     },
     "output_type": "display_data"
    }
   ],
   "source": [
    "# This cell would forecast for High growth\n",
    "\n",
    "from statsmodels.tsa.holtwinters import ExponentialSmoothing\n",
    "\n",
    "growth_products, growth_tables = get_sku_of_type(\"High growth\",df)\n",
    "# print(hg_tables)\n",
    "\n",
    "\n",
    "for sku in growth_products:\n",
    "    sku_train,sku_test = get_test_train(growth_tables[sku])\n",
    "    #print(sku_train)\n",
    "    #print(sku_test)\n",
    "    \n",
    "    model = ExponentialSmoothing(sku_train[\"SumOfNET_QTY\"],seasonal='mul',seasonal_periods=12).fit()\n",
    "    \n",
    "    pred = model.predict(start=sku_test.index[0], end=sku_test.index[-1])\n",
    "    \n",
    "    print(\" SKU : \",sku)\n",
    "    mape = utils.calculate_mape(sku_test[\"SumOfNET_QTY\"],pred)\n",
    "    print(\"MAPE: \",mape)\n",
    "    wmape = utils.calculate_wmape(sku_test[\"SumOfNET_QTY\"],pred)\n",
    "    print(\"MAPE: \",wmape)\n",
    "    \n",
    "    plt.subplot(len(growth_products),1,list(growth_products).index(sku)+1)\n",
    "    plt.plot(sku_train.index, sku_train[\"SumOfNET_QTY\"], label='Train')\n",
    "    plt.plot(sku_test.index, sku_test[\"SumOfNET_QTY\"], label='Test')\n",
    "    plt.plot(pred.index, pred, label='Exponential')\n",
    "    plt.legend(loc='best')\n",
    "    \n"
   ]
  }
 ],
 "metadata": {
  "kernelspec": {
   "display_name": "Python 3",
   "language": "python",
   "name": "python3"
  },
  "language_info": {
   "codemirror_mode": {
    "name": "ipython",
    "version": 3
   },
   "file_extension": ".py",
   "mimetype": "text/x-python",
   "name": "python",
   "nbconvert_exporter": "python",
   "pygments_lexer": "ipython3",
   "version": "3.6.7"
  }
 },
 "nbformat": 4,
 "nbformat_minor": 2
}
