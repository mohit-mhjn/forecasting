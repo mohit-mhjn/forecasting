{
 "cells": [
  {
   "cell_type": "raw",
   "metadata": {},
   "source": [
    "## My notes from the tuorial\n",
    "## Logistic Regresssion \n",
    "\n",
    "Given a set of independent variables and a binary dependet variable, The logistic regression helps us estimate the probability of the dependent variable taking the 0/1 values. \n",
    "\n",
    "\n",
    "for ex. Given a set of employee attributes like salary, experience, position etc. what is the likelyhood that the employee quits his job (Here dependent var is quitting E {0,1} and salary, experience, position etc are independent vars) \n",
    "\n",
    "\n",
    "It just calculates the odds of the dependent var. \n",
    "\n",
    "\n",
    "Properties\n",
    "\n",
    "* Unlike linear regression logistic regression cannot be estimated by OLE instead we use MLE. \n",
    "* Events are complementry ie. The sum of estimated probabilities of happening and not happening is 1 \n",
    "\n",
    "The equation of regression for logistic regression is : \n",
    "            \n",
    "            y = b0 + b1_x1 + b2_x2 + b3_x3 + b4_x4 ---- bn_xn\n",
    "\n",
    "            where, \n",
    "                * y is the dependent var\n",
    "                * x1 --- xn are independent vars\n",
    "                * b(i)'s are the coefficients \n",
    "\n",
    "Now to estimate bi, We use MLE as the estimation for each.\n",
    "\n",
    "Explaination: From the limited dataset that we have we cannot be 100% sure that y depends on some xi so we do a hypothesis test to figure that out with some confidence level say alpha. \n",
    "\n",
    "Here,\n",
    "Null Hypothesis is bi = 0 \n",
    "Alternate hypothesis is bi != 0 \n",
    "\n",
    "If null hypothesis is not rejected then we we may say that y independent of xi, the the value of bi in the regression reqn is 0 and hence bi = 0 \n",
    "If not, the there's a factor bi which defines the depedency of y on xi \n",
    "\n",
    "Say bi derived from our sample data follows some distribution, D ----(1. Take a note of this will refer this back)\n",
    "This distribution itself is the MLE\n",
    "\n",
    "With Ref. to Anand's presentation, \n",
    "\n",
    "In the output of logistic regression, Each coef bi has an associated Mean Value and Std Error which is essentially the Mean and Std deviation of the distribution of bi as in point 1. \n",
    "P-value is the p value obtained inthe hypothesis testing of bi. "
   ]
  },
  {
   "cell_type": "code",
   "execution_count": 14,
   "metadata": {},
   "outputs": [
    {
     "data": {
      "text/plain": [
       "Text(0, 0.5, 'Pass')"
      ]
     },
     "execution_count": 14,
     "metadata": {},
     "output_type": "execute_result"
    },
    {
     "data": {
      "image/png": "[encoded data removed]",
      "text/plain": [
       "<Figure size 432x288 with 1 Axes>"
      ]
     },
     "metadata": {
      "needs_background": "light"
     },
     "output_type": "display_data"
    }
   ],
   "source": [
    "#Practice Exercises \n",
    "\n",
    "import pandas\n",
    "import matplotlib.pyplot as plt\n",
    "import numpy \n",
    "from sklearn.linear_model import LogisticRegression\n",
    "\n",
    "student_df = pandas.read_csv(\"./hours_pass.csv\")\n",
    "plt.scatter(student_df[\"Hours\"],student_df[\"Pass\"])\n",
    "plt.xlabel(\"Hours\")\n",
    "plt.ylabel(\"Pass\")"
   ]
  },
  {
   "cell_type": "markdown",
   "metadata": {},
   "source": [
    "Note: The depedent var \"Pass\" is binary wrt to the independent variable Hours which is continuous \n",
    "\n",
    "For futher exploration the data is divided into two segments, Say Hours > 3 and Hours < 3  is the baseline model. For the purpose of Exercise 1 directly using the complete dataset as the training set.  "
   ]
  },
  {
   "cell_type": "code",
   "execution_count": 48,
   "metadata": {},
   "outputs": [
    {
     "data": {
      "text/plain": [
       "array([0.97706971])"
      ]
     },
     "execution_count": 48,
     "metadata": {},
     "output_type": "execute_result"
    }
   ],
   "source": [
    "log_reg = LogisticRegression(solver='lbfgs')\n",
    "X_train = numpy.array(student_df[\"Hours\"]).reshape(-1,1)\n",
    "Y_train = numpy.array(student_df[\"Pass\"])\n",
    "\n",
    "X_test = numpy.array(pandas.DataFrame({\"Hours\":[6]})[\"Hours\"]).reshape(1,-1)\n",
    "Y_test = None\n",
    "\n",
    "log_reg.fit(X_train,Y_train)\n",
    "\n",
    "# print(log_reg.classes_)\n",
    "y_pred1 = log_reg.predict_proba(X_test)[:,1]  # There are two classes, 0-1 we just take the one we intend to analyze \n",
    "y_pred1"
   ]
  },
  {
   "cell_type": "markdown",
   "metadata": {},
   "source": [
    "The probability that a student will pass given he studied for 6 hrs in 0.977 as calculated above "
   ]
  },
  {
   "cell_type": "code",
   "execution_count": 49,
   "metadata": {},
   "outputs": [
    {
     "data": {
      "text/plain": [
       "array([0.02293029])"
      ]
     },
     "execution_count": 49,
     "metadata": {},
     "output_type": "execute_result"
    }
   ],
   "source": [
    "# Exercise 2 \n",
    "\n",
    "student_df[\"Fail\"] = student_df.apply(lambda x: int(abs(x[\"Pass\"]-1)),axis = 1)\n",
    "\n",
    "X_train = numpy.array(student_df[\"Hours\"]).reshape(-1,1)\n",
    "Y_train = numpy.array(student_df[\"Fail\"])   # Check the reverse \n",
    "\n",
    "X_test = numpy.array(pandas.DataFrame({\"Hours\":[6]})[\"Hours\"]).reshape(1,-1)\n",
    "Y_test = None\n",
    "\n",
    "log_reg.fit(X_train,Y_train)\n",
    "\n",
    "# print(log_reg.classes_)\n",
    "y_pred2 = log_reg.predict_proba(X_test)[:,1]  # There are two classes, 0-1 we just take the one we intend to analyze\n",
    "# Note that here 1 = Fail \n",
    "y_pred2"
   ]
  },
  {
   "cell_type": "code",
   "execution_count": 50,
   "metadata": {},
   "outputs": [
    {
     "data": {
      "text/plain": [
       "array([1.])"
      ]
     },
     "execution_count": 50,
     "metadata": {},
     "output_type": "execute_result"
    }
   ],
   "source": [
    "# Checking the sum of probabilities in both cases >>  Result = TRUE\n",
    "s = y_pred1 + y_pred2\n",
    "s"
   ]
  },
  {
   "cell_type": "code",
   "execution_count": 57,
   "metadata": {},
   "outputs": [
    {
     "data": {
      "text/plain": [
       "<matplotlib.collections.PathCollection at 0x225af8d0>"
      ]
     },
     "execution_count": 57,
     "metadata": {},
     "output_type": "execute_result"
    },
    {
     "data": {
      "image/png": "[encoded data removed]",
      "text/plain": [
       "<Figure size 432x288 with 1 Axes>"
      ]
     },
     "metadata": {
      "needs_background": "light"
     },
     "output_type": "display_data"
    }
   ],
   "source": [
    "# Exercise 3 \n",
    "\n",
    "dead_df = pandas.read_csv(\"./dead_beetles.csv\")\n",
    "dead_df[\"prob_of_death\"] = dead_df.apply(lambda x: x[\"Dead beetles\"]/x[\"Total number of beetles\"], axis = 1)\n",
    "plt.scatter(dead_df[\"Dose\"],dead_df[\"prob_of_death\"])\n"
   ]
  },
  {
   "cell_type": "markdown",
   "metadata": {},
   "source": [
    "The distribution of probabilitiy of death wrt Dosage varies as shown above \n",
    "\n",
    "The tilted S_shaped curve is a good indicator that logistic regression can be used to estimate the probability of death against the dose of CS2 \n",
    "\n",
    "Firstly we need to transform the dataset to make dependent variable as binary for fitting it to logistic regression"
   ]
  },
  {
   "cell_type": "code",
   "execution_count": 62,
   "metadata": {},
   "outputs": [
    {
     "data": {
      "text/html": [
       "<div>\n",
       "<style scoped>\n",
       "    .dataframe tbody tr th:only-of-type {\n",
       "        vertical-align: middle;\n",
       "    }\n",
       "\n",
       "    .dataframe tbody tr th {\n",
       "        vertical-align: top;\n",
       "    }\n",
       "\n",
       "    .dataframe thead th {\n",
       "        text-align: right;\n",
       "    }\n",
       "</style>\n",
       "<table border=\"1\" class=\"dataframe\">\n",
       "  <thead>\n",
       "    <tr style=\"text-align: right;\">\n",
       "      <th></th>\n",
       "      <th>dose</th>\n",
       "      <th>dead</th>\n",
       "    </tr>\n",
       "  </thead>\n",
       "  <tbody>\n",
       "    <tr>\n",
       "      <th>1</th>\n",
       "      <td>1.6907</td>\n",
       "      <td>1</td>\n",
       "    </tr>\n",
       "    <tr>\n",
       "      <th>2</th>\n",
       "      <td>1.6907</td>\n",
       "      <td>1</td>\n",
       "    </tr>\n",
       "    <tr>\n",
       "      <th>3</th>\n",
       "      <td>1.6907</td>\n",
       "      <td>1</td>\n",
       "    </tr>\n",
       "    <tr>\n",
       "      <th>4</th>\n",
       "      <td>1.6907</td>\n",
       "      <td>1</td>\n",
       "    </tr>\n",
       "    <tr>\n",
       "      <th>5</th>\n",
       "      <td>1.6907</td>\n",
       "      <td>1</td>\n",
       "    </tr>\n",
       "    <tr>\n",
       "      <th>6</th>\n",
       "      <td>1.6907</td>\n",
       "      <td>0</td>\n",
       "    </tr>\n",
       "    <tr>\n",
       "      <th>7</th>\n",
       "      <td>1.6907</td>\n",
       "      <td>0</td>\n",
       "    </tr>\n",
       "    <tr>\n",
       "      <th>8</th>\n",
       "      <td>1.6907</td>\n",
       "      <td>0</td>\n",
       "    </tr>\n",
       "    <tr>\n",
       "      <th>9</th>\n",
       "      <td>1.6907</td>\n",
       "      <td>0</td>\n",
       "    </tr>\n",
       "  </tbody>\n",
       "</table>\n",
       "</div>"
      ],
      "text/plain": [
       "     dose  dead\n",
       "1  1.6907     1\n",
       "2  1.6907     1\n",
       "3  1.6907     1\n",
       "4  1.6907     1\n",
       "5  1.6907     1\n",
       "6  1.6907     0\n",
       "7  1.6907     0\n",
       "8  1.6907     0\n",
       "9  1.6907     0"
      ]
     },
     "execution_count": 62,
     "metadata": {},
     "output_type": "execute_result"
    }
   ],
   "source": [
    "dead_df\n",
    "observations = {\"dose\":[],\"dead\":[]}\n",
    "for indx,row in dead_df.iterrows():\n",
    "    deaths = [1]*int(row[\"Dead beetles\"]) + [0]*(int(row[\"Total number of beetles\"]) - int(row[\"Dead beetles\"]))\n",
    "    dose = [row[\"Dose\"]]*int(row[\"Total number of beetles\"])\n",
    "    observations[\"dose\"] += dose\n",
    "    observations[\"dead\"] += deaths\n",
    "\n",
    "dead_df_binary = pandas.DataFrame(observations)\n",
    "dead_df_binary[1:10]"
   ]
  },
  {
   "cell_type": "code",
   "execution_count": 63,
   "metadata": {},
   "outputs": [
    {
     "data": {
      "text/plain": [
       "LogisticRegression(C=1.0, class_weight=None, dual=False, fit_intercept=True,\n",
       "          intercept_scaling=1, max_iter=100, multi_class='warn',\n",
       "          n_jobs=None, penalty='l2', random_state=None, solver='lbfgs',\n",
       "          tol=0.0001, verbose=0, warm_start=False)"
      ]
     },
     "execution_count": 63,
     "metadata": {},
     "output_type": "execute_result"
    }
   ],
   "source": [
    "# Part 1 : with Dose as Independent Variable\n",
    "# Using the full dataset as the training data \n",
    "X_train = numpy.array(dead_df_binary[\"dose\"]).reshape(-1,1)\n",
    "Y_train = numpy.array(dead_df_binary[\"dead\"])\n",
    "\n",
    "log_reg.fit(X_train,Y_train)"
   ]
  },
  {
   "cell_type": "code",
   "execution_count": 65,
   "metadata": {},
   "outputs": [
    {
     "data": {
      "text/plain": [
       "0.7733887733887734"
      ]
     },
     "execution_count": 65,
     "metadata": {},
     "output_type": "execute_result"
    }
   ],
   "source": [
    "log_reg.score(X_train,Y_train)"
   ]
  },
  {
   "cell_type": "code",
   "execution_count": 66,
   "metadata": {},
   "outputs": [
    {
     "data": {
      "text/plain": [
       "LogisticRegression(C=1.0, class_weight=None, dual=False, fit_intercept=True,\n",
       "          intercept_scaling=1, max_iter=100, multi_class='warn',\n",
       "          n_jobs=None, penalty='l2', random_state=None, solver='lbfgs',\n",
       "          tol=0.0001, verbose=0, warm_start=False)"
      ]
     },
     "execution_count": 66,
     "metadata": {},
     "output_type": "execute_result"
    }
   ],
   "source": [
    "# Part 2 \n",
    "# Using sq of dose as independent variable\n",
    "dead_df_binary[\"sq_dose\"] = dead_df_binary.apply(lambda x: x[\"dose\"]**2,axis = 1)\n",
    "\n",
    "X_train = numpy.array(dead_df_binary[\"sq_dose\"]).reshape(-1,1)\n",
    "Y_train = numpy.array(dead_df_binary[\"dead\"])\n",
    "\n",
    "log_reg.fit(X_train,Y_train)\n"
   ]
  },
  {
   "cell_type": "code",
   "execution_count": 67,
   "metadata": {},
   "outputs": [
    {
     "data": {
      "text/plain": [
       "0.8274428274428275"
      ]
     },
     "execution_count": 67,
     "metadata": {},
     "output_type": "execute_result"
    }
   ],
   "source": [
    "log_reg.score(X_train,Y_train)"
   ]
  },
  {
   "cell_type": "markdown",
   "metadata": {},
   "source": [
    "The Accuracy of the logistic regression has improved by squaring the dose. "
   ]
  },
  {
   "cell_type": "code",
   "execution_count": 90,
   "metadata": {},
   "outputs": [
    {
     "name": "stdout",
     "output_type": "stream",
     "text": [
      "100 100 100\n",
      "500 500 500\n"
     ]
    },
    {
     "data": {
      "text/html": [
       "<div>\n",
       "<style scoped>\n",
       "    .dataframe tbody tr th:only-of-type {\n",
       "        vertical-align: middle;\n",
       "    }\n",
       "\n",
       "    .dataframe tbody tr th {\n",
       "        vertical-align: top;\n",
       "    }\n",
       "\n",
       "    .dataframe thead th {\n",
       "        text-align: right;\n",
       "    }\n",
       "</style>\n",
       "<table border=\"1\" class=\"dataframe\">\n",
       "  <thead>\n",
       "    <tr style=\"text-align: right;\">\n",
       "      <th></th>\n",
       "      <th>site</th>\n",
       "      <th>status</th>\n",
       "      <th>sick</th>\n",
       "    </tr>\n",
       "  </thead>\n",
       "  <tbody>\n",
       "    <tr>\n",
       "      <th>0</th>\n",
       "      <td>NewYork</td>\n",
       "      <td>alcoholic</td>\n",
       "      <td>1</td>\n",
       "    </tr>\n",
       "    <tr>\n",
       "      <th>1</th>\n",
       "      <td>NewYork</td>\n",
       "      <td>alcoholic</td>\n",
       "      <td>1</td>\n",
       "    </tr>\n",
       "    <tr>\n",
       "      <th>2</th>\n",
       "      <td>NewYork</td>\n",
       "      <td>alcoholic</td>\n",
       "      <td>1</td>\n",
       "    </tr>\n",
       "    <tr>\n",
       "      <th>3</th>\n",
       "      <td>NewYork</td>\n",
       "      <td>alcoholic</td>\n",
       "      <td>1</td>\n",
       "    </tr>\n",
       "    <tr>\n",
       "      <th>4</th>\n",
       "      <td>NewYork</td>\n",
       "      <td>alcoholic</td>\n",
       "      <td>1</td>\n",
       "    </tr>\n",
       "    <tr>\n",
       "      <th>5</th>\n",
       "      <td>NewYork</td>\n",
       "      <td>alcoholic</td>\n",
       "      <td>1</td>\n",
       "    </tr>\n",
       "    <tr>\n",
       "      <th>6</th>\n",
       "      <td>NewYork</td>\n",
       "      <td>alcoholic</td>\n",
       "      <td>1</td>\n",
       "    </tr>\n",
       "    <tr>\n",
       "      <th>7</th>\n",
       "      <td>NewYork</td>\n",
       "      <td>alcoholic</td>\n",
       "      <td>1</td>\n",
       "    </tr>\n",
       "    <tr>\n",
       "      <th>8</th>\n",
       "      <td>NewYork</td>\n",
       "      <td>alcoholic</td>\n",
       "      <td>1</td>\n",
       "    </tr>\n",
       "    <tr>\n",
       "      <th>9</th>\n",
       "      <td>NewYork</td>\n",
       "      <td>alcoholic</td>\n",
       "      <td>1</td>\n",
       "    </tr>\n",
       "  </tbody>\n",
       "</table>\n",
       "</div>"
      ],
      "text/plain": [
       "      site     status  sick\n",
       "0  NewYork  alcoholic     1\n",
       "1  NewYork  alcoholic     1\n",
       "2  NewYork  alcoholic     1\n",
       "3  NewYork  alcoholic     1\n",
       "4  NewYork  alcoholic     1\n",
       "5  NewYork  alcoholic     1\n",
       "6  NewYork  alcoholic     1\n",
       "7  NewYork  alcoholic     1\n",
       "8  NewYork  alcoholic     1\n",
       "9  NewYork  alcoholic     1"
      ]
     },
     "execution_count": 90,
     "metadata": {},
     "output_type": "execute_result"
    }
   ],
   "source": [
    "# Exercise 4 \n",
    "\n",
    "patient_df = pandas.read_csv(\"patients.csv\")\n",
    "patient_df = patient_df.rename(columns = {\"Unnamed: 0\":\"category1\",\n",
    "                             \"NewYork\":\"NewYork Sick\",\n",
    "                             \"Unnamed: 2\": \"NewYork NotSick\",\n",
    "                             \"Philadelphia\":\"Philadelphia Sick\",\n",
    "                             \"Unnamed: 4\":\"Philadelphia NotSick\"})[1:]\n",
    "\n",
    "patient_df_dataset = {\"site\":[],\"status\":[],\"sick\":[]}\n",
    "\n",
    "for indx,row in patient_df.iterrows():\n",
    "    \n",
    "    site = [\"NewYork\"]*(int(row[\"NewYork Sick\"]) + int(row[\"NewYork NotSick\"]))\n",
    "    status = [row[\"category1\"]]*(int(row[\"NewYork Sick\"]) + int(row[\"NewYork NotSick\"]))\n",
    "    sick = [1]*int(row[\"NewYork Sick\"]) + [0]*int(row[\"NewYork NotSick\"])\n",
    "    patient_df_dataset[\"site\"] += site\n",
    "    patient_df_dataset[\"status\"] += status\n",
    "    patient_df_dataset[\"sick\"] += sick\n",
    "    \n",
    "    #print(len(site),len(status),len(sick))\n",
    "    \n",
    "    site = [\"Philadelphia\"]*(int(row[\"Philadelphia Sick\"]) + int(row[\"Philadelphia NotSick\"]))\n",
    "    status = [row[\"category1\"]]*(int(row[\"Philadelphia Sick\"]) + int(row[\"Philadelphia NotSick\"]))\n",
    "    sick = [1]*int(row[\"Philadelphia Sick\"]) + [0]*int(row[\"Philadelphia NotSick\"])\n",
    "    patient_df_dataset[\"site\"] += site\n",
    "    patient_df_dataset[\"status\"] += status\n",
    "    patient_df_dataset[\"sick\"] += sick\n",
    "    \n",
    "patient_df_binary = pandas.DataFrame(patient_df_dataset)\n",
    "patient_df_binary[:10]\n"
   ]
  },
  {
   "cell_type": "code",
   "execution_count": null,
   "metadata": {},
   "outputs": [],
   "source": []
  }
 ],
 "metadata": {
  "kernelspec": {
   "display_name": "Python 3",
   "language": "python",
   "name": "python3"
  },
  "language_info": {
   "codemirror_mode": {
    "name": "ipython",
    "version": 3
   },
   "file_extension": ".py",
   "mimetype": "text/x-python",
   "name": "python",
   "nbconvert_exporter": "python",
   "pygments_lexer": "ipython3",
   "version": "3.6.7"
  }
 },
 "nbformat": 4,
 "nbformat_minor": 2
}
