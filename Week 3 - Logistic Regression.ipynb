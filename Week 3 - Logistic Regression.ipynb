{
 "cells": [
  {
   "cell_type": "code",
   "execution_count": 94,
   "metadata": {},
   "outputs": [],
   "source": [
    "# My notes from the tuorial\n",
    "## Logistic Regresssion \n",
    "a = \"\"\"\n",
    "Given a set of independent variables and a binary dependet variable, The logistic regression helps us estimate the probability of the dependent variable taking the 0/1 values. \n",
    "\n",
    "\n",
    "for ex. Given a set of employee attributes like salary, experience, position etc. what is the likelyhood that the employee quits his job (Here dependent var is quitting E {0,1} and salary, experience, position etc are independent vars) \n",
    "\n",
    "\n",
    "It just calculates the odds of the dependent var. \n",
    "\n",
    "\n",
    "Properties\n",
    "\n",
    "* Unlike linear regression logistic regression cannot be estimated by OLE instead we use MLE. \n",
    "* Events are complementry ie. The sum of estimated probabilities of happening and not happening is 1 \n",
    "\n",
    "The equation of regression for logistic regression is : \n",
    "            \n",
    "            y = b0 + b1_x1 + b2_x2 + b3_x3 + b4_x4 ---- bn_xn\n",
    "\n",
    "            where, \n",
    "                * y is the dependent var\n",
    "                * x1 --- xn are independent vars\n",
    "                * b(i)'s are the coefficients \n",
    "\n",
    "Now to estimate bi, We use MLE as the estimation for each.\n",
    "\n",
    "Explaination: From the limited dataset that we have we cannot be 100% sure that y depends on some xi so we do a hypothesis test to figure that out with some confidence level say alpha. \n",
    "\n",
    "Here,\n",
    "Null Hypothesis is bi = 0 \n",
    "Alternate hypothesis is bi != 0 \n",
    "\n",
    "If null hypothesis is not rejected then we we may say that y independent of xi, the the value of bi in the regression reqn is 0 and hence bi = 0 \n",
    "If not, the there's a factor bi which defines the depedency of y on xi \n",
    "\n",
    "Say bi derived from our sample data follows some distribution, D ----(1. Take a note of this will refer this back)\n",
    "This distribution itself is the MLE\n",
    "\n",
    "With Ref. to Anand's presentation, \n",
    "\n",
    "In the output of logistic regression, Each coef bi has an associated Mean Value and Std Error which is essentially the Mean and Std deviation of the distribution of bi as in point 1. \n",
    "P-value is the p value obtained inthe hypothesis testing of bi. \n",
    "\n",
    "\"\"\"\n",
    "x = 0"
   ]
  },
  {
   "cell_type": "code",
   "execution_count": 37,
   "metadata": {},
   "outputs": [
    {
     "data": {
      "text/plain": [
       "Text(0, 0.5, 'Pass')"
      ]
     },
     "execution_count": 37,
     "metadata": {},
     "output_type": "execute_result"
    },
    {
     "data": {
      "image/png": "[encoded data removed]",
      "text/plain": [
       "<Figure size 432x288 with 1 Axes>"
      ]
     },
     "metadata": {
      "needs_background": "light"
     },
     "output_type": "display_data"
    }
   ],
   "source": [
    "#Practice Exercises \n",
    "\n",
    "import pandas\n",
    "import matplotlib.pyplot as plt\n",
    "import numpy \n",
    "from termcolor import colored\n",
    "from sklearn.linear_model import LogisticRegression\n",
    "\n",
    "student_df = pandas.read_csv(\"./hours_pass.csv\")\n",
    "plt.scatter(student_df[\"Hours\"],student_df[\"Pass\"])\n",
    "plt.xlabel(\"Hours\")\n",
    "plt.ylabel(\"Pass\")"
   ]
  },
  {
   "cell_type": "markdown",
   "metadata": {},
   "source": [
    "Note: The depedent var \"Pass\" is binary wrt to the independent variable Hours which is continuous \n",
    "\n",
    "For futher exploration the data is divided into two segments, Say Hours > 3 and Hours < 3  is the baseline model. For the purpose of Exercise 1 directly using the complete dataset as the training set.  "
   ]
  },
  {
   "cell_type": "code",
   "execution_count": 3,
   "metadata": {},
   "outputs": [
    {
     "data": {
      "text/plain": [
       "array([0.97706971])"
      ]
     },
     "execution_count": 3,
     "metadata": {},
     "output_type": "execute_result"
    }
   ],
   "source": [
    "log_reg = LogisticRegression(solver='lbfgs')\n",
    "X_train = numpy.array(student_df[\"Hours\"]).reshape(-1,1)\n",
    "Y_train = numpy.array(student_df[\"Pass\"])\n",
    "\n",
    "X_test = numpy.array(pandas.DataFrame({\"Hours\":[6]})[\"Hours\"]).reshape(1,-1)\n",
    "Y_test = None\n",
    "\n",
    "log_reg.fit(X_train,Y_train)\n",
    "\n",
    "# print(log_reg.classes_)\n",
    "y_pred1 = log_reg.predict_proba(X_test)[:,1]  # There are two classes, 0-1 we just take the one we intend to analyze \n",
    "y_pred1"
   ]
  },
  {
   "cell_type": "markdown",
   "metadata": {},
   "source": [
    "The probability that a student will pass given he studied for 6 hrs in 0.977 as calculated above "
   ]
  },
  {
   "cell_type": "code",
   "execution_count": 4,
   "metadata": {},
   "outputs": [
    {
     "data": {
      "text/plain": [
       "array([0.02293029])"
      ]
     },
     "execution_count": 4,
     "metadata": {},
     "output_type": "execute_result"
    }
   ],
   "source": [
    "# Exercise 2 \n",
    "\n",
    "student_df[\"Fail\"] = student_df.apply(lambda x: int(abs(x[\"Pass\"]-1)),axis = 1)\n",
    "\n",
    "X_train = numpy.array(student_df[\"Hours\"]).reshape(-1,1)\n",
    "Y_train = numpy.array(student_df[\"Fail\"])   # Check the reverse \n",
    "\n",
    "X_test = numpy.array(pandas.DataFrame({\"Hours\":[6]})[\"Hours\"]).reshape(1,-1)\n",
    "Y_test = None\n",
    "\n",
    "log_reg.fit(X_train,Y_train)\n",
    "\n",
    "# print(log_reg.classes_)\n",
    "y_pred2 = log_reg.predict_proba(X_test)[:,1]  # There are two classes, 0-1 we just take the one we intend to analyze\n",
    "# Note that here 1 = Fail \n",
    "y_pred2"
   ]
  },
  {
   "cell_type": "code",
   "execution_count": 5,
   "metadata": {},
   "outputs": [
    {
     "data": {
      "text/plain": [
       "array([1.])"
      ]
     },
     "execution_count": 5,
     "metadata": {},
     "output_type": "execute_result"
    }
   ],
   "source": [
    "# Checking the sum of probabilities in both cases >>  Result = TRUE\n",
    "s = y_pred1 + y_pred2\n",
    "s"
   ]
  },
  {
   "cell_type": "code",
   "execution_count": 7,
   "metadata": {},
   "outputs": [
    {
     "data": {
      "text/plain": [
       "<matplotlib.collections.PathCollection at 0x1c4b30b0>"
      ]
     },
     "execution_count": 7,
     "metadata": {},
     "output_type": "execute_result"
    },
    {
     "data": {
      "image/png": "[encoded data removed]",
      "text/plain": [
       "<Figure size 432x288 with 1 Axes>"
      ]
     },
     "metadata": {
      "needs_background": "light"
     },
     "output_type": "display_data"
    }
   ],
   "source": [
    "# Exercise 3 \n",
    "\n",
    "dead_df = pandas.read_csv(\"./dead_beetles.csv\")\n",
    "dead_df[\"prob_of_death\"] = dead_df.apply(lambda x: x[\"Dead beetles\"]/x[\"Total number of beetles\"], axis = 1)\n",
    "plt.scatter(dead_df[\"Dose\"],dead_df[\"prob_of_death\"],marker=\"*\")\n"
   ]
  },
  {
   "cell_type": "markdown",
   "metadata": {},
   "source": [
    "The distribution of probabilitiy of death wrt Dosage varies as shown above \n",
    "\n",
    "The tilted S_shaped curve is a good indicator that logistic regression can be used to estimate the probability of death against the dose of CS2 \n",
    "\n",
    "Two ways to regress this ==>\n",
    "\n",
    "* First, transform the dataset to make dependent variable as binary for fitting it to logistic regression\n",
    "* Second, fit a linear regression for >> ln(p/1-p)"
   ]
  },
  {
   "cell_type": "code",
   "execution_count": 8,
   "metadata": {},
   "outputs": [
    {
     "data": {
      "text/html": [
       "<div>\n",
       "<style scoped>\n",
       "    .dataframe tbody tr th:only-of-type {\n",
       "        vertical-align: middle;\n",
       "    }\n",
       "\n",
       "    .dataframe tbody tr th {\n",
       "        vertical-align: top;\n",
       "    }\n",
       "\n",
       "    .dataframe thead th {\n",
       "        text-align: right;\n",
       "    }\n",
       "</style>\n",
       "<table border=\"1\" class=\"dataframe\">\n",
       "  <thead>\n",
       "    <tr style=\"text-align: right;\">\n",
       "      <th></th>\n",
       "      <th>dose</th>\n",
       "      <th>dead</th>\n",
       "    </tr>\n",
       "  </thead>\n",
       "  <tbody>\n",
       "    <tr>\n",
       "      <th>1</th>\n",
       "      <td>1.6907</td>\n",
       "      <td>1</td>\n",
       "    </tr>\n",
       "    <tr>\n",
       "      <th>2</th>\n",
       "      <td>1.6907</td>\n",
       "      <td>1</td>\n",
       "    </tr>\n",
       "    <tr>\n",
       "      <th>3</th>\n",
       "      <td>1.6907</td>\n",
       "      <td>1</td>\n",
       "    </tr>\n",
       "    <tr>\n",
       "      <th>4</th>\n",
       "      <td>1.6907</td>\n",
       "      <td>1</td>\n",
       "    </tr>\n",
       "    <tr>\n",
       "      <th>5</th>\n",
       "      <td>1.6907</td>\n",
       "      <td>1</td>\n",
       "    </tr>\n",
       "    <tr>\n",
       "      <th>6</th>\n",
       "      <td>1.6907</td>\n",
       "      <td>0</td>\n",
       "    </tr>\n",
       "    <tr>\n",
       "      <th>7</th>\n",
       "      <td>1.6907</td>\n",
       "      <td>0</td>\n",
       "    </tr>\n",
       "    <tr>\n",
       "      <th>8</th>\n",
       "      <td>1.6907</td>\n",
       "      <td>0</td>\n",
       "    </tr>\n",
       "    <tr>\n",
       "      <th>9</th>\n",
       "      <td>1.6907</td>\n",
       "      <td>0</td>\n",
       "    </tr>\n",
       "  </tbody>\n",
       "</table>\n",
       "</div>"
      ],
      "text/plain": [
       "     dose  dead\n",
       "1  1.6907     1\n",
       "2  1.6907     1\n",
       "3  1.6907     1\n",
       "4  1.6907     1\n",
       "5  1.6907     1\n",
       "6  1.6907     0\n",
       "7  1.6907     0\n",
       "8  1.6907     0\n",
       "9  1.6907     0"
      ]
     },
     "execution_count": 8,
     "metadata": {},
     "output_type": "execute_result"
    }
   ],
   "source": [
    "# Transform the dataset to binary dependent variable\n",
    "dead_df\n",
    "observations = {\"dose\":[],\"dead\":[]}\n",
    "for indx,row in dead_df.iterrows():\n",
    "    deaths = [1]*int(row[\"Dead beetles\"]) + [0]*(int(row[\"Total number of beetles\"]) - int(row[\"Dead beetles\"]))\n",
    "    dose = [row[\"Dose\"]]*int(row[\"Total number of beetles\"])\n",
    "    observations[\"dose\"] += dose\n",
    "    observations[\"dead\"] += deaths\n",
    "\n",
    "dead_df_binary = pandas.DataFrame(observations)\n",
    "dead_df_binary[1:10]"
   ]
  },
  {
   "cell_type": "code",
   "execution_count": 11,
   "metadata": {},
   "outputs": [
    {
     "data": {
      "text/plain": [
       "LogisticRegression(C=1.0, class_weight=None, dual=False, fit_intercept=True,\n",
       "          intercept_scaling=1, max_iter=100, multi_class='warn',\n",
       "          n_jobs=None, penalty='l2', random_state=None, solver='lbfgs',\n",
       "          tol=0.0001, verbose=0, warm_start=False)"
      ]
     },
     "execution_count": 11,
     "metadata": {},
     "output_type": "execute_result"
    }
   ],
   "source": [
    "# Part 1 : with Dose as Independent Variable\n",
    "# Using the full dataset as the training data \n",
    "X_train = numpy.array(dead_df_binary[\"dose\"]).reshape(-1,1)\n",
    "Y_train = numpy.array(dead_df_binary[\"dead\"])\n",
    "\n",
    "log_reg.fit(X_train,Y_train)"
   ]
  },
  {
   "cell_type": "code",
   "execution_count": 12,
   "metadata": {},
   "outputs": [
    {
     "data": {
      "text/plain": [
       "0.7733887733887734"
      ]
     },
     "execution_count": 12,
     "metadata": {},
     "output_type": "execute_result"
    }
   ],
   "source": [
    "log_reg.score(X_train,Y_train)"
   ]
  },
  {
   "cell_type": "code",
   "execution_count": 13,
   "metadata": {},
   "outputs": [
    {
     "data": {
      "text/plain": [
       "LogisticRegression(C=1.0, class_weight=None, dual=False, fit_intercept=True,\n",
       "          intercept_scaling=1, max_iter=100, multi_class='warn',\n",
       "          n_jobs=None, penalty='l2', random_state=None, solver='lbfgs',\n",
       "          tol=0.0001, verbose=0, warm_start=False)"
      ]
     },
     "execution_count": 13,
     "metadata": {},
     "output_type": "execute_result"
    }
   ],
   "source": [
    "# Part 2 \n",
    "# Using sq of dose as independent variable\n",
    "dead_df_binary[\"sq_dose\"] = dead_df_binary.apply(lambda x: x[\"dose\"]**2,axis = 1)\n",
    "\n",
    "X_train = numpy.array(dead_df_binary[\"sq_dose\"]).reshape(-1,1)\n",
    "Y_train = numpy.array(dead_df_binary[\"dead\"])\n",
    "\n",
    "log_reg.fit(X_train,Y_train)\n"
   ]
  },
  {
   "cell_type": "code",
   "execution_count": 14,
   "metadata": {},
   "outputs": [
    {
     "data": {
      "text/plain": [
       "0.8274428274428275"
      ]
     },
     "execution_count": 14,
     "metadata": {},
     "output_type": "execute_result"
    }
   ],
   "source": [
    "log_reg.score(X_train,Y_train)"
   ]
  },
  {
   "cell_type": "markdown",
   "metadata": {},
   "source": [
    "**Conclusion** : \n",
    "The Accuracy of the logistic regression has improved by squaring the dose. "
   ]
  },
  {
   "cell_type": "code",
   "execution_count": 39,
   "metadata": {},
   "outputs": [
    {
     "name": "stderr",
     "output_type": "stream",
     "text": [
      "c:\\users\\admin\\appdata\\local\\programs\\python\\python36-32\\lib\\site-packages\\ipykernel_launcher.py:3: SettingWithCopyWarning: \n",
      "A value is trying to be set on a copy of a slice from a DataFrame.\n",
      "Try using .loc[row_indexer,col_indexer] = value instead\n",
      "\n",
      "See the caveats in the documentation: http://pandas.pydata.org/pandas-docs/stable/indexing.html#indexing-view-versus-copy\n",
      "  This is separate from the ipykernel package so we can avoid doing imports until\n",
      "c:\\users\\admin\\appdata\\local\\programs\\python\\python36-32\\lib\\site-packages\\ipykernel_launcher.py:4: SettingWithCopyWarning: \n",
      "A value is trying to be set on a copy of a slice from a DataFrame.\n",
      "Try using .loc[row_indexer,col_indexer] = value instead\n",
      "\n",
      "See the caveats in the documentation: http://pandas.pydata.org/pandas-docs/stable/indexing.html#indexing-view-versus-copy\n",
      "  after removing the cwd from sys.path.\n",
      "c:\\users\\admin\\appdata\\local\\programs\\python\\python36-32\\lib\\site-packages\\ipykernel_launcher.py:5: SettingWithCopyWarning: \n",
      "A value is trying to be set on a copy of a slice from a DataFrame.\n",
      "Try using .loc[row_indexer,col_indexer] = value instead\n",
      "\n",
      "See the caveats in the documentation: http://pandas.pydata.org/pandas-docs/stable/indexing.html#indexing-view-versus-copy\n",
      "  \"\"\"\n"
     ]
    },
    {
     "data": {
      "image/png": "[encoded data removed]",
      "text/plain": [
       "<Figure size 360x1080 with 3 Axes>"
      ]
     },
     "metadata": {
      "needs_background": "light"
     },
     "output_type": "display_data"
    }
   ],
   "source": [
    "# Approach 2\n",
    "dead_df\n",
    "dead_df[\"1_minus_prob\"] = dead_df.apply(lambda row : 1-row[\"prob_of_death\"],axis = 1)\n",
    "dead_df[\"logit\"] = dead_df.apply(lambda row : row[\"prob_of_death\"]/row[\"1_minus_prob\"],axis = 1)\n",
    "dead_df[\"log_logit\"] = dead_df.apply(lambda row : numpy.log(row[\"logit\"]),axis = 1) \n",
    "\n",
    "plt.figure(figsize = (5,15))\n",
    "\n",
    "plt.subplot(311)\n",
    "plt.scatter(dead_df[\"Dose\"],dead_df[\"prob_of_death\"],marker = \".\")\n",
    "plt.xlabel(\"dose\")\n",
    "plt.ylabel(\"p\")\n",
    "\n",
    "plt.subplot(312)\n",
    "plt.scatter(dead_df[\"Dose\"],dead_df[\"logit\"],marker = \".\")\n",
    "plt.xlabel(\"dose\")\n",
    "plt.ylabel(\"p/1-p\")\n",
    "\n",
    "plt.subplot(313)\n",
    "plt.scatter(dead_df[\"Dose\"],dead_df[\"log_logit\"],marker = \".\")\n",
    "plt.xlabel(\"dose\")\n",
    "plt.ylabel(\"log(p/1-p)\")\n",
    "\n",
    "dead_df = dead_df[:-1]\n",
    "# dead_df"
   ]
  },
  {
   "cell_type": "code",
   "execution_count": 44,
   "metadata": {},
   "outputs": [
    {
     "name": "stdout",
     "output_type": "stream",
     "text": [
      "\u001b[34m\n",
      "R-squared: \u001b[0m 0.9610304502274627 \u001b[34m\n",
      "Adj R-Squared: \u001b[0m 0.9512880627843283\n",
      "\u001b[34mSum of Sq Error: \u001b[0m 0.5568865648562402\n",
      "\u001b[34mcoef :\n",
      "\u001b[0m [30.32191084]\n",
      "\u001b[34mintercept : \u001b[0m -53.685621232771375\n"
     ]
    },
    {
     "data": {
      "image/png": "[encoded data removed]",
      "text/plain": [
       "<Figure size 432x288 with 1 Axes>"
      ]
     },
     "metadata": {
      "needs_background": "light"
     },
     "output_type": "display_data"
    }
   ],
   "source": [
    "from sklearn.linear_model import LinearRegression\n",
    "reg = LinearRegression()\n",
    "\n",
    "X = numpy.array(dead_df[\"Dose\"]).reshape(-1,1)\n",
    "y = dead_df[\"log_logit\"]\n",
    "# A summary function to analyse accuracy metrics\n",
    "def summary(reg,X,y):\n",
    "    print(colored(\"\\nR-squared: \",\"blue\"),reg.score(X, y),colored(\"\\nAdj R-Squared: \",\"blue\"),1 - (1-reg.score(X, y))*(len(y)-1)/(len(y)-X.shape[1]-1))\n",
    "    yhat = reg.predict(X)\n",
    "    print(colored(\"Sum of Sq Error: \",\"blue\"),sum((y-yhat)**2))\n",
    "    print(colored(\"coef :\\n\",\"blue\"),reg.coef_)\n",
    "    print(colored(\"intercept : \",\"blue\"),reg.intercept_)\n",
    "    return None\n",
    "\n",
    "reg.fit(X,y)\n",
    "summary(reg,X,y)\n",
    "\n",
    "y_pred = reg.predict(X)\n",
    "\n",
    "plt.scatter(X,y,color='black',marker=\".\")\n",
    "plt.plot(X,y_pred, linewidth=1)\n",
    "# plt.xticks(())\n",
    "# plt.yticks(())\n",
    "plt.xlabel(\"Dose\")\n",
    "plt.ylabel(\"log_logit\")\n",
    "\n",
    "plt.show()"
   ]
  },
  {
   "cell_type": "code",
   "execution_count": 46,
   "metadata": {},
   "outputs": [],
   "source": [
    "# Exercise 4 \n",
    "\n",
    "patient_df = pandas.read_csv(\"patients.csv\")\n",
    "patient_df = patient_df.rename(columns = {\"Unnamed: 0\":\"category1\",\n",
    "                             \"NewYork\":\"NewYork Sick\",\n",
    "                             \"Unnamed: 2\": \"NewYork NotSick\",\n",
    "                             \"Philadelphia\":\"Philadelphia Sick\",\n",
    "                             \"Unnamed: 4\":\"Philadelphia NotSick\"})[1:]\n",
    "\n",
    "patient_df_dataset = {\"site\":[],\"status\":[],\"sick\":[]}\n",
    "\n",
    "for indx,row in patient_df.iterrows():\n",
    "    \n",
    "    site = [\"NewYork\"]*(int(row[\"NewYork Sick\"]) + int(row[\"NewYork NotSick\"]))\n",
    "    status = [row[\"category1\"]]*(int(row[\"NewYork Sick\"]) + int(row[\"NewYork NotSick\"]))\n",
    "    sick = [1]*int(row[\"NewYork Sick\"]) + [0]*int(row[\"NewYork NotSick\"])\n",
    "    patient_df_dataset[\"site\"] += site\n",
    "    patient_df_dataset[\"status\"] += status\n",
    "    patient_df_dataset[\"sick\"] += sick\n",
    "    \n",
    "    #print(len(site),len(status),len(sick))\n",
    "    \n",
    "    site = [\"Philadelphia\"]*(int(row[\"Philadelphia Sick\"]) + int(row[\"Philadelphia NotSick\"]))\n",
    "    status = [row[\"category1\"]]*(int(row[\"Philadelphia Sick\"]) + int(row[\"Philadelphia NotSick\"]))\n",
    "    sick = [1]*int(row[\"Philadelphia Sick\"]) + [0]*int(row[\"Philadelphia NotSick\"])\n",
    "    patient_df_dataset[\"site\"] += site\n",
    "    patient_df_dataset[\"status\"] += status\n",
    "    patient_df_dataset[\"sick\"] += sick\n",
    "    \n",
    "patient_df_binary = pandas.DataFrame(patient_df_dataset)\n",
    "\n",
    "lookup_dict = {\"NewYork\":1,\n",
    "               \"Philadelphia\":0,\n",
    "               \"alcoholic\":1,\n",
    "               \"nonAlcoholic\":0}\n",
    "\n",
    "patient_df_binary[\"t_site\"] = patient_df_binary.apply(lambda x: lookup_dict[x[\"site\"]], axis = 1)\n",
    "patient_df_binary[\"t_status\"] = patient_df_binary.apply(lambda x: lookup_dict[x[\"status\"]], axis = 1)\n"
   ]
  },
  {
   "cell_type": "code",
   "execution_count": 47,
   "metadata": {},
   "outputs": [],
   "source": [
    "# Split the data into trainging and Testing\n",
    "from sklearn.model_selection import train_test_split\n",
    "X_train, X_test, y_train, y_test = train_test_split(patient_df_binary[[\"t_site\",\"t_status\"]], patient_df_binary[[\"sick\"]], test_size=0.25)"
   ]
  },
  {
   "cell_type": "code",
   "execution_count": 48,
   "metadata": {},
   "outputs": [
    {
     "name": "stderr",
     "output_type": "stream",
     "text": [
      "c:\\users\\admin\\appdata\\local\\programs\\python\\python36-32\\lib\\site-packages\\sklearn\\utils\\validation.py:761: DataConversionWarning: A column-vector y was passed when a 1d array was expected. Please change the shape of y to (n_samples, ), for example using ravel().\n",
      "  y = column_or_1d(y, warn=True)\n"
     ]
    },
    {
     "data": {
      "text/plain": [
       "LogisticRegression(C=1.0, class_weight=None, dual=False, fit_intercept=True,\n",
       "          intercept_scaling=1, max_iter=100, multi_class='warn',\n",
       "          n_jobs=None, penalty='l2', random_state=None, solver='lbfgs',\n",
       "          tol=0.0001, verbose=0, warm_start=False)"
      ]
     },
     "execution_count": 48,
     "metadata": {},
     "output_type": "execute_result"
    }
   ],
   "source": [
    "log_reg.fit(X_train,y_train)"
   ]
  },
  {
   "cell_type": "code",
   "execution_count": 64,
   "metadata": {},
   "outputs": [
    {
     "data": {
      "text/plain": [
       "array([0.67756332, 0.81820358, 0.94628813, 0.97418236])"
      ]
     },
     "execution_count": 64,
     "metadata": {},
     "output_type": "execute_result"
    }
   ],
   "source": [
    "# from sklearn.metrics import confusion_matrix\n",
    "prediction_probs = log_reg.predict_proba(X_test)\n",
    "numpy.unique(prediction_probs[:,0])\n"
   ]
  },
  {
   "cell_type": "code",
   "execution_count": null,
   "metadata": {},
   "outputs": [],
   "source": [
    "\n"
   ]
  },
  {
   "cell_type": "code",
   "execution_count": 70,
   "metadata": {},
   "outputs": [
    {
     "data": {
      "text/html": [
       "<div>\n",
       "<style scoped>\n",
       "    .dataframe tbody tr th:only-of-type {\n",
       "        vertical-align: middle;\n",
       "    }\n",
       "\n",
       "    .dataframe tbody tr th {\n",
       "        vertical-align: top;\n",
       "    }\n",
       "\n",
       "    .dataframe thead th {\n",
       "        text-align: right;\n",
       "    }\n",
       "</style>\n",
       "<table border=\"1\" class=\"dataframe\">\n",
       "  <thead>\n",
       "    <tr style=\"text-align: right;\">\n",
       "      <th></th>\n",
       "      <th>drink</th>\n",
       "      <th>cases</th>\n",
       "      <th>sex</th>\n",
       "    </tr>\n",
       "  </thead>\n",
       "  <tbody>\n",
       "    <tr>\n",
       "      <th>1</th>\n",
       "      <td>1</td>\n",
       "      <td>0</td>\n",
       "      <td>1</td>\n",
       "    </tr>\n",
       "    <tr>\n",
       "      <th>2</th>\n",
       "      <td>1</td>\n",
       "      <td>0</td>\n",
       "      <td>2</td>\n",
       "    </tr>\n",
       "    <tr>\n",
       "      <th>3</th>\n",
       "      <td>2</td>\n",
       "      <td>0</td>\n",
       "      <td>2</td>\n",
       "    </tr>\n",
       "    <tr>\n",
       "      <th>4</th>\n",
       "      <td>1</td>\n",
       "      <td>0</td>\n",
       "      <td>2</td>\n",
       "    </tr>\n",
       "    <tr>\n",
       "      <th>5</th>\n",
       "      <td>1</td>\n",
       "      <td>0</td>\n",
       "      <td>1</td>\n",
       "    </tr>\n",
       "    <tr>\n",
       "      <th>6</th>\n",
       "      <td>2</td>\n",
       "      <td>0</td>\n",
       "      <td>2</td>\n",
       "    </tr>\n",
       "    <tr>\n",
       "      <th>7</th>\n",
       "      <td>2</td>\n",
       "      <td>0</td>\n",
       "      <td>1</td>\n",
       "    </tr>\n",
       "    <tr>\n",
       "      <th>8</th>\n",
       "      <td>1</td>\n",
       "      <td>1</td>\n",
       "      <td>2</td>\n",
       "    </tr>\n",
       "    <tr>\n",
       "      <th>9</th>\n",
       "      <td>1</td>\n",
       "      <td>0</td>\n",
       "      <td>1</td>\n",
       "    </tr>\n",
       "  </tbody>\n",
       "</table>\n",
       "</div>"
      ],
      "text/plain": [
       "   drink  cases  sex\n",
       "1      1      0    1\n",
       "2      1      0    2\n",
       "3      2      0    2\n",
       "4      1      0    2\n",
       "5      1      0    1\n",
       "6      2      0    2\n",
       "7      2      0    1\n",
       "8      1      1    2\n",
       "9      1      0    1"
      ]
     },
     "execution_count": 70,
     "metadata": {},
     "output_type": "execute_result"
    }
   ],
   "source": [
    "# Exercise 5\n",
    "depress_data = pandas.read_csv(\"depress_r_data.csv\")\n",
    "depress_data\n",
    "\n",
    "use_depress_data = depress_data[[\"drink\",\"cases\",\"sex\"]]\n",
    "use_depress_data[1:10]"
   ]
  }
 ],
 "metadata": {
  "kernelspec": {
   "display_name": "Python 3",
   "language": "python",
   "name": "python3"
  },
  "language_info": {
   "codemirror_mode": {
    "name": "ipython",
    "version": 3
   },
   "file_extension": ".py",
   "mimetype": "text/x-python",
   "name": "python",
   "nbconvert_exporter": "python",
   "pygments_lexer": "ipython3",
   "version": "3.6.7"
  }
 },
 "nbformat": 4,
 "nbformat_minor": 2
}
